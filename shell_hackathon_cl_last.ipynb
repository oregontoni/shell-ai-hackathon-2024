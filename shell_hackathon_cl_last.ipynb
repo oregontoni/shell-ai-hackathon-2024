{
 "cells": [
  {
   "cell_type": "code",
   "execution_count": 1,
   "id": "193fb913",
   "metadata": {},
   "outputs": [],
   "source": [
    "# Import relevant libraries\n",
    "import pandas as pd\n",
    "import numpy as np\n",
    "import matplotlib.pyplot as plt\n",
    "import seaborn as sns\n",
    "import pulp as pl\n",
    "pd.set_option('display.max_rows', 200000)"
   ]
  },
  {
   "cell_type": "code",
   "execution_count": 2,
   "id": "7b992086",
   "metadata": {},
   "outputs": [],
   "source": [
    "# Import datasets\n",
    "carbon_emissions_df  = pd.read_csv('C:/Users/12276/Desktop/Hackerearth/Data/carbon_emissions.csv')\n",
    "resale_df = pd.read_csv('C:/Users/12276/Desktop/Hackerearth/Data/cost_profiles.csv')\n",
    "demand_df  = pd.read_csv('C:/Users/12276/Desktop/Hackerearth/Data/demand.csv')\n",
    "fuels_df = pd.read_csv('C:/Users/12276/Desktop/Hackerearth/Data/fuels.csv')\n",
    "vehicles_df  = pd.read_csv('C:/Users/12276/Desktop/Hackerearth/Data/vehicles.csv')\n",
    "vehicles_fuels_df  = pd.read_csv('C:/Users/12276/Desktop/Hackerearth/Data/vehicles_fuels.csv')\n",
    "sample_submission_df = pd.read_csv('C:/Users/12276/Desktop/Hackerearth/Data/sample_submission.csv') "
   ]
  },
  {
   "cell_type": "code",
   "execution_count": 3,
   "id": "e9018b10",
   "metadata": {},
   "outputs": [],
   "source": [
    "# Attempt to manipulate diesel vehicles distances for decreasing overall costs\n",
    "\n",
    "#vehicles_df.loc[vehicles_df['Vehicle'] == 'Diesel', 'Yearly range (km)'] *=0.7"
   ]
  },
  {
   "cell_type": "markdown",
   "id": "cf43a3eb",
   "metadata": {},
   "source": [
    "### Edit vehicles_df to include all distance bucket selections"
   ]
  },
  {
   "cell_type": "code",
   "execution_count": 4,
   "id": "2e389021",
   "metadata": {},
   "outputs": [],
   "source": [
    "# Define a function to generate additional rows based on 'Distance'\n",
    "def generate_rows(row):\n",
    "    if row['Distance'] == 'D4':\n",
    "        return pd.concat([\n",
    "            pd.DataFrame([row]),\n",
    "            pd.DataFrame([{**row, 'Distance': 'D3'}]),\n",
    "            pd.DataFrame([{**row, 'Distance': 'D2'}]),\n",
    "            pd.DataFrame([{**row, 'Distance': 'D1'}])\n",
    "        ])\n",
    "    elif row['Distance'] == 'D3':\n",
    "        return pd.concat([\n",
    "            pd.DataFrame([row]),\n",
    "            pd.DataFrame([{**row, 'Distance': 'D2'}]),\n",
    "            pd.DataFrame([{**row, 'Distance': 'D1'}])\n",
    "        ])\n",
    "    elif row['Distance'] == 'D2':\n",
    "        return pd.concat([\n",
    "            pd.DataFrame([row]),\n",
    "            pd.DataFrame([{**row, 'Distance': 'D1'}])\n",
    "        ])\n",
    "    else:\n",
    "        return pd.DataFrame([row])\n",
    "\n",
    "# Apply the function to each row and concatenate the results\n",
    "vehicles_df_add = pd.concat(vehicles_df.apply(generate_rows, axis=1).tolist(), ignore_index=True)"
   ]
  },
  {
   "cell_type": "markdown",
   "id": "5adeba65",
   "metadata": {},
   "source": [
    "Before we calculate, we will merge the dataframe vehicles_df, vehicles_fuels_df, and fuels_df."
   ]
  },
  {
   "cell_type": "markdown",
   "id": "ff260e37",
   "metadata": {},
   "source": [
    "First, merge fuels_df with vehicles_df_add using column `Year`"
   ]
  },
  {
   "cell_type": "code",
   "execution_count": 5,
   "id": "df0c0843",
   "metadata": {},
   "outputs": [],
   "source": [
    "merged_vehicles_df = pd.merge(vehicles_fuels_df, vehicles_df_add, on='ID', how='outer')"
   ]
  },
  {
   "cell_type": "code",
   "execution_count": 6,
   "id": "323f5477",
   "metadata": {},
   "outputs": [],
   "source": [
    "merged_fuels_total_df = pd.merge(merged_vehicles_df, fuels_df, on=['Fuel', 'Year'], how = 'outer')"
   ]
  },
  {
   "cell_type": "markdown",
   "id": "7e64fc70",
   "metadata": {},
   "source": [
    "### Initialize the Pulp problem and define decision variables"
   ]
  },
  {
   "cell_type": "markdown",
   "id": "6fe3893a",
   "metadata": {},
   "source": [
    "Unfortunately, we will assume the consumption will be maximised for selected vehicle for now."
   ]
  },
  {
   "cell_type": "code",
   "execution_count": 7,
   "id": "9a9fadd6",
   "metadata": {},
   "outputs": [],
   "source": [
    "# Initialize the PuLP problem\n",
    "prob = pl.LpProblem(\"Fleet_Transition_Optimization\", pl.LpMinimize)\n",
    "\n",
    "# Define Fuel type\n",
    "fuel_type = merged_fuels_total_df['Fuel'].unique().tolist()\n",
    "\n",
    "# Define Distance Bucket type\n",
    "distance_bucket = merged_fuels_total_df['Distance'].unique().tolist()\n",
    "\n",
    "# Define decision variables\n",
    "buy_vars = pl.LpVariable.dicts(\"Buy\", \n",
    "                               ((year, vehicle_id) for year in range(2023, 2039) for vehicle_id in vehicles_df['ID']),\n",
    "                               lowBound=0, cat='Integer')\n",
    "\n",
    "use_vars = pl.LpVariable.dicts(\"Use\", \n",
    "                               ((year, vehicle_id, fuel, db) for year in range(2023, 2039) for vehicle_id in vehicles_df_add['ID']\n",
    "                               for fuel in fuel_type for db in distance_bucket),\n",
    "                               lowBound=0, cat='Integer')\n",
    "\n",
    "sell_vars = pl.LpVariable.dicts(\"Sell\", \n",
    "                                ((year, vehicle_id) for year in range(2023, 2039) for vehicle_id in vehicles_df['ID']),\n",
    "                                lowBound=0, cat='Integer')"
   ]
  },
  {
   "cell_type": "markdown",
   "id": "02750d7f",
   "metadata": {},
   "source": [
    "### Define objective function"
   ]
  },
  {
   "cell_type": "markdown",
   "id": "72419e9f",
   "metadata": {},
   "source": [
    "The total cost consists of three components:\n",
    "- Buying Cost for the vehicle\n",
    "- Using Cost for the vehicle\n",
    "- (Negative/Gain) Resale cost\n",
    "\n",
    "Where the Using cost consists of three components:\n",
    "- Fuel cost\n",
    "- Insurance Cost\n",
    "- Maintenance Cost\n",
    "\n",
    "The Fuel cost is calculated by:\n",
    "\n",
    "`D_v_f`: Distance travelled by vehicle `v` using fuel `f`. **(Assumed max)**\n",
    "Unit: km\n",
    "\n",
    "**multiplies by**\n",
    "\n",
    "`N_v_f`: Number of vehicles of type `v` driving fuel type `f`.\n",
    "\n",
    "**multiplies by**\n",
    "\n",
    "`m_v_f`: Fuel consumption of vehicle of type `v` driving with fuel type `f`.\n",
    "Unit: unit_fuel/km\n",
    "\n",
    "**multiplies by**\n",
    "\n",
    "`C_f_yr`: Cost of unit fuel of type `f` in the year `yr`.\n",
    "Unit: $/unit_fuel"
   ]
  },
  {
   "cell_type": "code",
   "execution_count": 8,
   "id": "1a0f000a",
   "metadata": {},
   "outputs": [],
   "source": [
    "# First calculate buying costs\n",
    "total_cost = pl.lpSum([\n",
    "    # Buying cost\n",
    "    buy_vars[(year, row['ID'])] * row['Cost ($)']\n",
    "    for year in range(2023, 2039)\n",
    "    for _, row in vehicles_df.iterrows()\n",
    "])"
   ]
  },
  {
   "cell_type": "code",
   "execution_count": 9,
   "id": "61caf00c",
   "metadata": {},
   "outputs": [],
   "source": [
    "# Add insurance and maintenance costs\n",
    "for year in range(2023, 2039):\n",
    "    for v in vehicles_df['ID']:\n",
    "        purchase_year = int(v.split('_')[-1])\n",
    "        if year >= purchase_year:\n",
    "            age = year - purchase_year+1\n",
    "            if age < 10:\n",
    "                # Normal vehicle price\n",
    "                purchase_cost = vehicles_df.loc[vehicles_df['ID'] == v, 'Cost ($)'].values[0]\n",
    "                \n",
    "                # Insurance percentage by age\n",
    "                insurance_cost_pct = resale_df.loc[resale_df['End of Year'] == age, 'Insurance Cost %'].values[0] / 100\n",
    "                \n",
    "                # Maintenance percentage by age\n",
    "                maintenance_cost_pct = resale_df.loc[resale_df['End of Year'] == age, 'Maintenance Cost %'].values[0] / 100\n",
    "                \n",
    "                # Insurance cost \n",
    "                insurance_cost = purchase_cost * insurance_cost_pct\n",
    "                \n",
    "                # Maintenance cost\n",
    "                maintenance_cost = purchase_cost * maintenance_cost_pct\n",
    "                \n",
    "                # Add insurance cost to total cost\n",
    "                total_cost += insurance_cost * pl.lpSum([use_vars[(year, v, fuel, db)] for db in distance_bucket for fuel in fuel_type])\n",
    "                \n",
    "                # Add maintenance cost to total cost\n",
    "                total_cost += maintenance_cost * pl.lpSum([use_vars[(year, v, fuel, db)] for db in distance_bucket for fuel in fuel_type])"
   ]
  },
  {
   "cell_type": "code",
   "execution_count": 10,
   "id": "6f62f668",
   "metadata": {},
   "outputs": [],
   "source": [
    "# Add fuel costs\n",
    "for year in range(2023, 2039):\n",
    "    for db in distance_bucket:\n",
    "        for _, row in merged_fuels_total_df.iterrows():\n",
    "            # Unique vehicle id\n",
    "            vehicle_id = row['ID']\n",
    "\n",
    "            # Max distance travelled by vehicle, unit: km\n",
    "            distance = row['Yearly range (km)']\n",
    "\n",
    "            # Fuel type\n",
    "            fuel_t = row['Fuel']\n",
    "\n",
    "            # Fuel cost, unit: $/unit\n",
    "            fuel_cost = fuels_df[(fuels_df['Fuel'] == fuel_t) & (fuels_df['Year'] == year)]['Cost ($/unit_fuel)']\n",
    "\n",
    "            # Fuel consumption, unit: unit/km\n",
    "            fuel_consumption = row['Consumption (unit_fuel/km)']\n",
    "\n",
    "            # Append calculated fuel cost to total cost\n",
    "            ## Formula: Fuel_cost = number of vehicle v * Distance * Fule_Consumption * Fuel_cost\n",
    "            total_cost += distance * fuel_cost * fuel_consumption * use_vars[(year, vehicle_id, fuel_t, db)]"
   ]
  },
  {
   "cell_type": "code",
   "execution_count": 11,
   "id": "f78ad64f",
   "metadata": {},
   "outputs": [],
   "source": [
    "# Add (Negative/Gain) Resale cost\n",
    "for year in range(2023, 2039):\n",
    "    for vehicle_id in vehicles_df['ID']:\n",
    "        purchase_year = int(vehicle_id.split('_')[-1])\n",
    "        if year > purchase_year:\n",
    "            age = year - purchase_year + 1\n",
    "            if age < 10:\n",
    "                purchase_cost = merged_fuels_total_df.loc[merged_fuels_total_df['ID'] == vehicle_id, 'Cost ($)'].values[0]\n",
    "                resale_value_pct = resale_df.loc[resale_df['End of Year'] == age, 'Resale Value %'].values[0] / 100\n",
    "                resale_value = purchase_cost * resale_value_pct\n",
    "                total_cost -= resale_value * sell_vars[(year, vehicle_id)]"
   ]
  },
  {
   "cell_type": "code",
   "execution_count": 12,
   "id": "243bf03d",
   "metadata": {},
   "outputs": [],
   "source": [
    "prob += total_cost"
   ]
  },
  {
   "cell_type": "code",
   "execution_count": 13,
   "id": "4767c803",
   "metadata": {},
   "outputs": [],
   "source": [
    "#prob += total_cost <= 172000000"
   ]
  },
  {
   "cell_type": "markdown",
   "id": "8d86e9dc",
   "metadata": {},
   "source": [
    "***"
   ]
  },
  {
   "cell_type": "markdown",
   "id": "bb008704",
   "metadata": {},
   "source": [
    "### Setting Constraints"
   ]
  },
  {
   "cell_type": "code",
   "execution_count": 14,
   "id": "baa1410b",
   "metadata": {},
   "outputs": [],
   "source": [
    "# 1. Ensure vehicles can only be bought in the specific year\n",
    "for year in range(2023, 2039):\n",
    "    for v in merged_fuels_total_df['ID']:\n",
    "        purchase_year = int(v.split('_')[-1])\n",
    "        if year != purchase_year:\n",
    "            prob += buy_vars[(year, v)] == 0"
   ]
  },
  {
   "cell_type": "code",
   "execution_count": 15,
   "id": "c43be43e",
   "metadata": {},
   "outputs": [],
   "source": [
    "# 2. Ensure vehicle has a 10-year life and must be sold by the end of 10th year, and also must buy, then sell.\n",
    "for v in merged_fuels_total_df['ID']:\n",
    "    purchase_year = int(v.split('_')[-1])\n",
    "    if purchase_year+10 <2040:\n",
    "        prob += buy_vars[(purchase_year, v)] == pl.lpSum([sell_vars[(y, v)] for y in range(purchase_year, purchase_year+10)])\n",
    "    else:\n",
    "        prob += buy_vars[(purchase_year, v)] >= pl.lpSum([sell_vars[(y, v)] for y in range(purchase_year, 2039)])"
   ]
  },
  {
   "cell_type": "code",
   "execution_count": 16,
   "id": "2cad0cd3-86a4-47df-9a26-0edf87266069",
   "metadata": {},
   "outputs": [],
   "source": [
    "# 3. Ensure vehicles are used only if they have been bought4\n",
    "for v in merged_fuels_total_df['ID']:\n",
    "    current = 0\n",
    "    for y in range(2023, 2039):\n",
    "        current += buy_vars[y, v]\n",
    "        prob += current >= pl.lpSum([use_vars[(y, v, fuel, db)]  for fuel in fuel_type for db in distance_bucket])\n",
    "        current -= sell_vars[y,v]"
   ]
  },
  {
   "cell_type": "code",
   "execution_count": 17,
   "id": "ccda8d68",
   "metadata": {},
   "outputs": [],
   "source": [
    "# 4. Every year at most 20% of the vehicles in the existing fleet can be sold\n",
    "sell = pl.lpSum([sell_vars[2023, v] for v in vehicles_df['ID'] if int(v.split('_')[-1]) == 2023])\n",
    "buy = pl.lpSum([buy_vars[2023, v] for v in vehicles_df['ID'] if int(v.split('_')[-1]) == 2023])\n",
    "prob += sell<= 0.2 * buy\n",
    "\n",
    "for year in range(2024, 2039):\n",
    "    sell_temp = pl.lpSum([sell_vars[year, v] for v in vehicles_df['ID'] if int(v.split('_')[-1]) <= year])\n",
    "    buy += pl.lpSum([buy_vars[year, v] for v in vehicles_df['ID'] if int(v.split('_')[-1]) == year])\n",
    "    prob += sell_temp<= 0.2 * (buy-sell)\n",
    "    sell += sell_temp"
   ]
  },
  {
   "cell_type": "code",
   "execution_count": 18,
   "id": "a3c65c81",
   "metadata": {},
   "outputs": [],
   "source": [
    "# 5. Ensure all vehicles can only use selected fuel type\n",
    "for year in range(2023, 2039):\n",
    "    for v in merged_fuels_total_df['ID']:\n",
    "        vt = v.split('_')[0]\n",
    "        for ft in fuel_type:\n",
    "            for db in distance_bucket:\n",
    "                if ((vt == 'BEV') & (ft != 'Electricity')) | ((vt == 'Diesel') & (ft not in ['B20', 'HVO'])) | ((vt == 'LNG') & (ft not in ['LNG', 'BioLNG'])):\n",
    "                    prob += use_vars[(year, v, ft, db)] == 0  "
   ]
  },
  {
   "cell_type": "code",
   "execution_count": 19,
   "id": "adc817d9",
   "metadata": {},
   "outputs": [],
   "source": [
    "# 6. Ensure vehicle can't be used if not belongs to demand bucket defined in original dataframe\n",
    "for year in range(2023, 2039):\n",
    "    for db in ['D1', 'D2', 'D3', 'D4']:\n",
    "        for v in vehicles_df['ID']:\n",
    "            if merged_fuels_total_df[(merged_fuels_total_df['ID'] == v)& (merged_fuels_total_df['Distance'] == db)].empty:\n",
    "                prob += use_vars[(year, v, ft, db)] == 0    "
   ]
  },
  {
   "cell_type": "code",
   "execution_count": 20,
   "id": "a09a4ee3",
   "metadata": {},
   "outputs": [],
   "source": [
    "# 7. Yearly demand must be met for each distance bucket\n",
    "for year in range(2023, 2039):\n",
    "    for db in ['D1', 'D2', 'D3', 'D4']:\n",
    "        for size in ['S1', 'S2', 'S3', 'S4']:\n",
    "            demand = demand_df[(demand_df['Year'] == year) & (demand_df['Distance'] == db) & (demand_df['Size'] == size)]['Demand (km)'].values[0]\n",
    "            prob += pl.lpSum([use_vars[(year, v, fuel, db)] * vehicles_df_add.loc[vehicles_df_add['ID'] == v , 'Yearly range (km)'].values[0]\n",
    "                           for v in vehicles_df_add[(vehicles_df_add['Distance'] == db) & (vehicles_df_add['Size'] == size)]['ID'] for fuel in fuel_type]) >= demand"
   ]
  },
  {
   "cell_type": "code",
   "execution_count": 21,
   "id": "1d0a49f1",
   "metadata": {
    "scrolled": true
   },
   "outputs": [],
   "source": [
    "# 8. Carbon emission limits must be respected\n",
    "for year in range(2023, 2039):\n",
    "    total_emissions = 0\n",
    "    for _, row in merged_fuels_total_df.iterrows():\n",
    "        # Unique vehicle id\n",
    "        vehicle_id = row['ID']\n",
    "\n",
    "        # Max distance travelled by vehicle, unit: km\n",
    "        distance = row['Yearly range (km)']\n",
    "\n",
    "        # Fuel type\n",
    "        fuel_t = row['Fuel']\n",
    "        \n",
    "        # Carbon emissions, unit: (CO2/unit_fuel)\n",
    "        emissions = row['Emissions (CO2/unit_fuel)']\n",
    "\n",
    "        # Fuel consumption, unit: unit/km\n",
    "        fuel_consumption = row['Consumption (unit_fuel/km)']\n",
    "\n",
    "        # Calculate total emissions\n",
    "        total_emissions += pl.lpSum([use_vars[(year, vehicle_id, fuel_t, row['Distance'])] * fuel_consumption * distance * emissions])\n",
    "    prob += total_emissions <= carbon_emissions_df[carbon_emissions_df['Year'] == year]['Carbon emission CO2/kg'].values[0]"
   ]
  },
  {
   "cell_type": "markdown",
   "id": "2321a9cf",
   "metadata": {},
   "source": [
    "***"
   ]
  },
  {
   "cell_type": "code",
   "execution_count": 22,
   "id": "c187d366",
   "metadata": {
    "scrolled": true
   },
   "outputs": [],
   "source": [
    "# Define solver parameters so that won't run infinitely\n",
    "solver = pl.PULP_CBC_CMD(\n",
    "    timeLimit=60,         # Maximum time in seconds\n",
    "    gapRel=0.01,           # Relative gap tolerance       \n",
    "    #threads=4,              # Number of threads to use\n",
    "    msg=True                # Display solver messages\n",
    ")"
   ]
  },
  {
   "cell_type": "code",
   "execution_count": 23,
   "id": "fb2d9f4f",
   "metadata": {},
   "outputs": [
    {
     "data": {
      "text/plain": [
       "1"
      ]
     },
     "execution_count": 23,
     "metadata": {},
     "output_type": "execute_result"
    }
   ],
   "source": [
    "prob.solve(solver)"
   ]
  },
  {
   "cell_type": "code",
   "execution_count": 24,
   "id": "e930298a-23dd-4fee-9b32-f3c1de508027",
   "metadata": {
    "scrolled": true
   },
   "outputs": [],
   "source": [
    "#check\n",
    "# for year in range(2023, 2039):\n",
    "#     total_emissions = 0\n",
    "#     for _, row in merged_fuels_total_df.iterrows():\n",
    "#         # Unique vehicle id\n",
    "#         vehicle_id = row['ID']\n",
    "\n",
    "#         # Max distance travelled by vehicle, unit: km\n",
    "#         distance = row['Yearly range (km)']\n",
    "\n",
    "#         # Fuel type\n",
    "#         fuel_t = row['Fuel']\n",
    "        \n",
    "#         # Carbon emissions, unit: (CO2/unit_fuel)\n",
    "#         emissions = row['Emissions (CO2/unit_fuel)']\n",
    "\n",
    "#         Fuel consumption, unit: unit/km\n",
    "#         fuel_consumption = row['Consumption (unit_fuel/km)']\n",
    "\n",
    "#         # Calculate total emissions\n",
    "#         total_emissions += np.sum([pl.value(use_vars[(year, vehicle_id, fuel_t, row['Distance'])]) * fuel_consumption * distance * emissions])\n",
    "#     print(total_emissions <= carbon_emissions_df[carbon_emissions_df['Year'] == year]['Carbon emission CO2/kg'].values[0])"
   ]
  },
  {
   "cell_type": "code",
   "execution_count": 25,
   "id": "6d396e58-8c2c-4e0f-ba05-d69711029cc3",
   "metadata": {
    "scrolled": true
   },
   "outputs": [],
   "source": [
    "# # Show buying variable results\n",
    "# for y in range(2023, 2039):\n",
    "#     for v in vehicles_df['ID']:\n",
    "#         if pl.value(buy_vars[(y, v)]) >0:\n",
    "#             print(y,v, pl.value(buy_vars[(y, v)]))"
   ]
  },
  {
   "cell_type": "code",
   "execution_count": 26,
   "id": "0511be68",
   "metadata": {
    "scrolled": true
   },
   "outputs": [],
   "source": [
    "# # Show using variable results\n",
    "# for y in range(2023, 2039):\n",
    "#     for v in vehicles_df['ID']:\n",
    "#         for d in distance_bucket:\n",
    "#             for f in fuel_type:\n",
    "#                 if pl.value(use_vars[(y, v, f, d)]) >0:\n",
    "#                     print((y,v,f, d, pl.value(use_vars[(y, v, f, d)]) ))"
   ]
  },
  {
   "cell_type": "code",
   "execution_count": 27,
   "id": "fff67d75",
   "metadata": {
    "scrolled": true
   },
   "outputs": [],
   "source": [
    "# # Show selling variable results\n",
    "# for y in range(2023, 2039):\n",
    "#     for v in vehicles_df['ID']:\n",
    "#         if pl.value(sell_vars[(y, v)]) is not None:\n",
    "#             if pl.value(sell_vars[(y, v)]) >0:\n",
    "#                 print(y, v, pl.value(sell_vars[(y, v)]))"
   ]
  },
  {
   "cell_type": "markdown",
   "id": "093ac819",
   "metadata": {},
   "source": [
    "#### Current cost: 301,103,319\n",
    "#### Reference cost:  172,000,000"
   ]
  },
  {
   "cell_type": "code",
   "execution_count": 28,
   "id": "23ba7ce6",
   "metadata": {},
   "outputs": [
    {
     "data": {
      "text/html": [
       "<div>\n",
       "<style scoped>\n",
       "    .dataframe tbody tr th:only-of-type {\n",
       "        vertical-align: middle;\n",
       "    }\n",
       "\n",
       "    .dataframe tbody tr th {\n",
       "        vertical-align: top;\n",
       "    }\n",
       "\n",
       "    .dataframe thead th {\n",
       "        text-align: right;\n",
       "    }\n",
       "</style>\n",
       "<table border=\"1\" class=\"dataframe\">\n",
       "  <thead>\n",
       "    <tr style=\"text-align: right;\">\n",
       "      <th></th>\n",
       "      <th>Year</th>\n",
       "      <th>ID</th>\n",
       "      <th>Num_Vehicles</th>\n",
       "      <th>Type</th>\n",
       "      <th>Fuel</th>\n",
       "      <th>Distance_bucket</th>\n",
       "      <th>Distance_per_vehicle(km)</th>\n",
       "    </tr>\n",
       "  </thead>\n",
       "  <tbody>\n",
       "    <tr>\n",
       "      <th>0</th>\n",
       "      <td>2023</td>\n",
       "      <td>BEV_S1_2023</td>\n",
       "      <td>9</td>\n",
       "      <td>Buy</td>\n",
       "      <td>NaN</td>\n",
       "      <td>NaN</td>\n",
       "      <td>0.0</td>\n",
       "    </tr>\n",
       "    <tr>\n",
       "      <th>1</th>\n",
       "      <td>2023</td>\n",
       "      <td>BEV_S1_2023</td>\n",
       "      <td>9</td>\n",
       "      <td>Use</td>\n",
       "      <td>Electricity</td>\n",
       "      <td>D1</td>\n",
       "      <td>102000.0</td>\n",
       "    </tr>\n",
       "    <tr>\n",
       "      <th>2</th>\n",
       "      <td>2023</td>\n",
       "      <td>BEV_S2_2023</td>\n",
       "      <td>10</td>\n",
       "      <td>Buy</td>\n",
       "      <td>NaN</td>\n",
       "      <td>NaN</td>\n",
       "      <td>0.0</td>\n",
       "    </tr>\n",
       "    <tr>\n",
       "      <th>3</th>\n",
       "      <td>2023</td>\n",
       "      <td>BEV_S2_2023</td>\n",
       "      <td>10</td>\n",
       "      <td>Use</td>\n",
       "      <td>Electricity</td>\n",
       "      <td>D1</td>\n",
       "      <td>106000.0</td>\n",
       "    </tr>\n",
       "    <tr>\n",
       "      <th>4</th>\n",
       "      <td>2023</td>\n",
       "      <td>BEV_S4_2023</td>\n",
       "      <td>1</td>\n",
       "      <td>Buy</td>\n",
       "      <td>NaN</td>\n",
       "      <td>NaN</td>\n",
       "      <td>0.0</td>\n",
       "    </tr>\n",
       "  </tbody>\n",
       "</table>\n",
       "</div>"
      ],
      "text/plain": [
       "   Year           ID  Num_Vehicles Type         Fuel Distance_bucket  \\\n",
       "0  2023  BEV_S1_2023             9  Buy          NaN             NaN   \n",
       "1  2023  BEV_S1_2023             9  Use  Electricity              D1   \n",
       "2  2023  BEV_S2_2023            10  Buy          NaN             NaN   \n",
       "3  2023  BEV_S2_2023            10  Use  Electricity              D1   \n",
       "4  2023  BEV_S4_2023             1  Buy          NaN             NaN   \n",
       "\n",
       "   Distance_per_vehicle(km)  \n",
       "0                       0.0  \n",
       "1                  102000.0  \n",
       "2                       0.0  \n",
       "3                  106000.0  \n",
       "4                       0.0  "
      ]
     },
     "execution_count": 28,
     "metadata": {},
     "output_type": "execute_result"
    }
   ],
   "source": [
    "output = []\n",
    "for year in range(2023, 2039):\n",
    "    for vehicle_id in vehicles_df['ID']:\n",
    "        if pl.value(buy_vars[(year, vehicle_id)]) > 0:\n",
    "            output.append({\n",
    "                'Year':year,\n",
    "                'ID': vehicle_id,\n",
    "                'Num_Vehicles': int(pl.value(buy_vars[(year, vehicle_id)])),\n",
    "                'Type': 'Buy',\n",
    "                'Fuel': np.nan,\n",
    "                'Distance_bucket':'NaN',\n",
    "                'Distance_per_vehicle(km)': 0.0\n",
    "            })\n",
    "        for fuel in fuel_type:\n",
    "            for db in distance_bucket:\n",
    "                if pl.value(use_vars[(year, vehicle_id, fuel, db)]) > 0:\n",
    "                    vehicle_info = merged_fuels_total_df[merged_fuels_total_df['ID'] == vehicle_id].iloc[0]\n",
    "                    output.append({\n",
    "                        'Year':year,\n",
    "                        'ID': vehicle_id,\n",
    "                        'Num_Vehicles': int(pl.value(use_vars[(year, vehicle_id, fuel, db)])),\n",
    "                        'Type': 'Use',\n",
    "                        'Fuel': fuel,\n",
    "                        'Distance_bucket': db,\n",
    "                        'Distance_per_vehicle(km)': vehicle_info['Yearly range (km)']\n",
    "            })                                   \n",
    "                    \n",
    "        if pl.value(sell_vars[(year, vehicle_id)]) > 0:\n",
    "            output.append({\n",
    "                'Year':year,\n",
    "                'ID': vehicle_id,\n",
    "                'Num_Vehicles': int(pl.value(sell_vars[(year, vehicle_id)])),\n",
    "                'Type': 'Sell',\n",
    "                'Fuel': np.nan,\n",
    "                'Distance_bucket':'NaN',\n",
    "                'Distance_per_vehicle(km)': 0.0\n",
    "            })\n",
    "\n",
    "output_df = pd.DataFrame(output, columns=[\n",
    "    'Year', 'ID', 'Num_Vehicles', 'Type', 'Fuel', 'Distance_bucket', 'Distance_per_vehicle(km)'\n",
    "])\n",
    "\n",
    "output_df.head()"
   ]
  },
  {
   "cell_type": "code",
   "execution_count": 29,
   "id": "ae02508e",
   "metadata": {},
   "outputs": [],
   "source": [
    "output_df.to_csv(\"shell_hackathon_2024_output.csv\", index=False)"
   ]
  }
 ],
 "metadata": {
  "kernelspec": {
   "display_name": "Python 3 (ipykernel)",
   "language": "python",
   "name": "python3"
  },
  "language_info": {
   "codemirror_mode": {
    "name": "ipython",
    "version": 3
   },
   "file_extension": ".py",
   "mimetype": "text/x-python",
   "name": "python",
   "nbconvert_exporter": "python",
   "pygments_lexer": "ipython3",
   "version": "3.11.5"
  }
 },
 "nbformat": 4,
 "nbformat_minor": 5
}
